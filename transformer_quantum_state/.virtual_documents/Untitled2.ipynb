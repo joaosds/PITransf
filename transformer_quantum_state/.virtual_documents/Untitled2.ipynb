from model import TransformerModel
from Hamiltonian import Ising
from optimizer import Optimizer
import torch.nn as nn
import os
import numpy as np
import torch
import matplotlib.pyplot as plt
from scipy import sparse


torch.set_default_tensor_type(
    torch.cuda.FloatTensor if torch.cuda.is_available() else torch.FloatTensor
)
# torch.set_default_tensor_type(torch.FloatTensor)
try:
    os.mkdir("results/")
except FileExistsError:
    pass

# ----------------------------------------------------------------------------------------
# System sizes from 10 to 41.
system_sizes = np.arange(10, 14, 2).reshape(-1, 1)

# (i). Define the Hamiltonian for future optimization
for system_size_i in system_sizes:
    a = Ising(system_size_i,periodic=False)
    print(dir(a))
Hamiltonians = [Ising(system_size_i, periodic=False) for system_size_i in system_sizes]
print(type(Hamiltonians[0]))


print(np.shape(Hamiltonians[0].full_H()))
print(Hamiltonians[0].full_H())



model = TransformerModel(
    system_sizes,
    param_dim,
    embedding_size,
    n_head,
    n_hid,
    n_layers,
    dropout=dropout,
    minibatch=minibatch,
)

# ----------------------------------------------------------------------------------------
num_params = sum([param.numel() for param in model.parameters()])
print("Number of parameters: ", num_params)
folder = "results/"
name = type(Hamiltonians[0]).__name__
save_str = f"{name}_{embedding_size}_{n_head}_{n_layers}"



X = sparse.csr_matrix(np.array([[0, 1], [1, 0]], dtype=np.float64))
Y = sparse.csr_matrix(np.array([[0, -1j], [1j, 0]], dtype=np.complex128))
Z = sparse.csr_matrix(np.array([[1, 0], [0, -1]], dtype=np.float64))
I = sparse.csr_matrix(np.array([[1, 0], [0, 1]], dtype=np.float64))

JZZ = 1
JZZ = sparse.kron(JZZ, Z)
print(JZZ)
print("a")
JZZ = sparse.kron(JZZ, Z)
print(JZZ)
JZZ = 1
JZZ = sparse.kron(JZZ, Z)
print("a")
hx = -2
h = sparse.kron(JZZ, hx)
print(h)

plt.spy(JZZ)



H = Ising([6], periodic=False)
E_ground = H.calc_E_ground()
print(E_ground)
print(np.shape(H.full_H()))
print(H.full_H())

#plt.spy(H.full_H())
d=H.full_H().todense()
plt.imshow(d,interpolation='none',cmap='binary')
plt.colorbar()



H = [
            (["ZZ"], 0, [2,3,4]),
            (["X"], 0, [1,2,6]),
        ]



print(H)


print(H[1][0][0])



