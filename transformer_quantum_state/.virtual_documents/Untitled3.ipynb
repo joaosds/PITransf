from model import TransformerModel
from Hamiltonian import Ising
from optimizer import Optimizer
import torch.nn as nn
import os
import numpy as np
import torch
import matplotlib.pyplot as plt
from scipy import sparse


torch.set_default_tensor_type(
    torch.cuda.FloatTensor if torch.cuda.is_available() else torch.FloatTensor
)
# torch.set_default_tensor_type(torch.FloatTensor)
try:
    os.mkdir("results/")
except FileExistsError:
    pass

# ----------------------------------------------------------------------------------------
# System sizes from 10 to 41.
system_sizes = np.arange(10, 14, 2).reshape(-1, 1)

# (i). Define the Hamiltonian for future optimization
for system_size_i in system_sizes:
    a = Ising(system_size_i,periodic=False)
Hamiltonians = [Ising(system_size_i, periodic=False) for system_size_i in system_sizes]
print(type(Hamiltonians[0]))


print(np.shape(Hamiltonians[0].full_H()))
print(Hamiltonians[0].full_H())







